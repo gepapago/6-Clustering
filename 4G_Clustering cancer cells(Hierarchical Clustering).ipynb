{
  "metadata": {
    "kernelspec": {
      "name": "python",
      "display_name": "Python (Pyodide)",
      "language": "python"
    },
    "language_info": {
      "codemirror_mode": {
        "name": "python",
        "version": 3
      },
      "file_extension": ".py",
      "mimetype": "text/x-python",
      "name": "python",
      "nbconvert_exporter": "python",
      "pygments_lexer": "ipython3",
      "version": "3.8"
    },
    "celltoolbar": "Slideshow"
  },
  "nbformat_minor": 4,
  "nbformat": 4,
  "cells": [
    {
      "cell_type": "markdown",
      "source": "# Clustering cancer cells(Hierarchical Clustering)\n### An alternative way to cluster our data is by taking a bottom-up approach.\n### We start by making a cluster for each sample of our data.\n### Then we combine (merge) the clusters making larger clusters.\n### In this way we create a cluster hierarchy. The approach is called *hierarchical clustering* (hierarchical clustering) or *additive clustering* (agglomerative clustering).",
      "metadata": {
        "slideshow": {
          "slide_type": "slide"
        }
      }
    },
    {
      "cell_type": "markdown",
      "source": "* Clusters are combined pairwise, each time finding a pair of clusters that are shorter than each other according to some metric.\n\n* An advantage of hierarchical clustering is that we do not have to decide from scratch on the number of clusters.",
      "metadata": {
        "slideshow": {
          "slide_type": "slide"
        }
      }
    },
    {
      "cell_type": "markdown",
      "source": "* To see hierarchical clustering in action, we will use the NCI60 gene data.\n\n* These contain measurements from 6,830 genes in 64 cancer cell cultures.\n\n* Each culture has the name of the type of cancer it concerns, in the `labs` column.",
      "metadata": {
        "slideshow": {
          "slide_type": "slide"
        }
      }
    },
    {
      "cell_type": "markdown",
      "source": "* Data are available through the R program.",
      "metadata": {
        "slideshow": {
          "slide_type": "slide"
        }
      }
    },
    {
      "cell_type": "code",
      "source": "import statsmodels.api as sm\n\nnci = sm.datasets.get_rdataset(dataname='NCI60', package='ISLR')\nnci_df = nci.data\nnci_df",
      "metadata": {
        "slideshow": {
          "slide_type": "fragment"
        }
      },
      "outputs": [
        {
          "data": {
            "text/html": [
              "<div>\n",
              "<style scoped>\n",
              "    .dataframe tbody tr th:only-of-type {\n",
              "        vertical-align: middle;\n",
              "    }\n",
              "\n",
              "    .dataframe tbody tr th {\n",
              "        vertical-align: top;\n",
              "    }\n",
              "\n",
              "    .dataframe thead th {\n",
              "        text-align: right;\n",
              "    }\n",
              "</style>\n",
              "<table border=\"1\" class=\"dataframe\">\n",
              "  <thead>\n",
              "    <tr style=\"text-align: right;\">\n",
              "      <th></th>\n",
              "      <th>data.1</th>\n",
              "      <th>data.2</th>\n",
              "      <th>data.3</th>\n",
              "      <th>data.4</th>\n",
              "      <th>data.5</th>\n",
              "      <th>data.6</th>\n",
              "      <th>data.7</th>\n",
              "      <th>data.8</th>\n",
              "      <th>data.9</th>\n",
              "      <th>data.10</th>\n",
              "      <th>...</th>\n",
              "      <th>data.6822</th>\n",
              "      <th>data.6823</th>\n",
              "      <th>data.6824</th>\n",
              "      <th>data.6825</th>\n",
              "      <th>data.6826</th>\n",
              "      <th>data.6827</th>\n",
              "      <th>data.6828</th>\n",
              "      <th>data.6829</th>\n",
              "      <th>data.6830</th>\n",
              "      <th>labs</th>\n",
              "    </tr>\n",
              "  </thead>\n",
              "  <tbody>\n",
              "    <tr>\n",
              "      <th>V1</th>\n",
              "      <td>0.300000</td>\n",
              "      <td>1.180000</td>\n",
              "      <td>0.550000</td>\n",
              "      <td>1.140000</td>\n",
              "      <td>-0.265000</td>\n",
              "      <td>-7.000000e-02</td>\n",
              "      <td>0.350000</td>\n",
              "      <td>-0.315000</td>\n",
              "      <td>-0.450000</td>\n",
              "      <td>-0.654980</td>\n",
              "      <td>...</td>\n",
              "      <td>0.000000</td>\n",
              "      <td>0.030000</td>\n",
              "      <td>-0.175000</td>\n",
              "      <td>0.629981</td>\n",
              "      <td>-0.030000</td>\n",
              "      <td>0.000000</td>\n",
              "      <td>0.280000</td>\n",
              "      <td>-0.340000</td>\n",
              "      <td>-1.930000</td>\n",
              "      <td>CNS</td>\n",
              "    </tr>\n",
              "    <tr>\n",
              "      <th>V2</th>\n",
              "      <td>0.679961</td>\n",
              "      <td>1.289961</td>\n",
              "      <td>0.169961</td>\n",
              "      <td>0.379961</td>\n",
              "      <td>0.464961</td>\n",
              "      <td>5.799610e-01</td>\n",
              "      <td>0.699961</td>\n",
              "      <td>0.724961</td>\n",
              "      <td>-0.040039</td>\n",
              "      <td>-0.285019</td>\n",
              "      <td>...</td>\n",
              "      <td>-0.300039</td>\n",
              "      <td>-0.250039</td>\n",
              "      <td>-0.535039</td>\n",
              "      <td>0.109941</td>\n",
              "      <td>-0.860039</td>\n",
              "      <td>-1.250049</td>\n",
              "      <td>-0.770039</td>\n",
              "      <td>-0.390039</td>\n",
              "      <td>-2.000039</td>\n",
              "      <td>CNS</td>\n",
              "    </tr>\n",
              "    <tr>\n",
              "      <th>V3</th>\n",
              "      <td>0.940000</td>\n",
              "      <td>-0.040000</td>\n",
              "      <td>-0.170000</td>\n",
              "      <td>-0.040000</td>\n",
              "      <td>-0.605000</td>\n",
              "      <td>0.000000e+00</td>\n",
              "      <td>0.090000</td>\n",
              "      <td>0.645000</td>\n",
              "      <td>0.430000</td>\n",
              "      <td>0.475019</td>\n",
              "      <td>...</td>\n",
              "      <td>0.120000</td>\n",
              "      <td>-0.740000</td>\n",
              "      <td>-0.595000</td>\n",
              "      <td>-0.270020</td>\n",
              "      <td>-0.150000</td>\n",
              "      <td>0.000000</td>\n",
              "      <td>-0.120000</td>\n",
              "      <td>-0.410000</td>\n",
              "      <td>0.000000</td>\n",
              "      <td>CNS</td>\n",
              "    </tr>\n",
              "    <tr>\n",
              "      <th>V4</th>\n",
              "      <td>0.280000</td>\n",
              "      <td>-0.310000</td>\n",
              "      <td>0.680000</td>\n",
              "      <td>-0.810000</td>\n",
              "      <td>0.625000</td>\n",
              "      <td>-1.387779e-17</td>\n",
              "      <td>0.170000</td>\n",
              "      <td>0.245000</td>\n",
              "      <td>0.020000</td>\n",
              "      <td>0.095019</td>\n",
              "      <td>...</td>\n",
              "      <td>-0.110000</td>\n",
              "      <td>-0.160000</td>\n",
              "      <td>0.095000</td>\n",
              "      <td>-0.350019</td>\n",
              "      <td>-0.300000</td>\n",
              "      <td>-1.150010</td>\n",
              "      <td>1.090000</td>\n",
              "      <td>-0.260000</td>\n",
              "      <td>-1.100000</td>\n",
              "      <td>RENAL</td>\n",
              "    </tr>\n",
              "    <tr>\n",
              "      <th>V5</th>\n",
              "      <td>0.485000</td>\n",
              "      <td>-0.465000</td>\n",
              "      <td>0.395000</td>\n",
              "      <td>0.905000</td>\n",
              "      <td>0.200000</td>\n",
              "      <td>-5.000000e-03</td>\n",
              "      <td>0.085000</td>\n",
              "      <td>0.110000</td>\n",
              "      <td>0.235000</td>\n",
              "      <td>1.490019</td>\n",
              "      <td>...</td>\n",
              "      <td>-0.775000</td>\n",
              "      <td>-0.515000</td>\n",
              "      <td>-0.320000</td>\n",
              "      <td>0.634980</td>\n",
              "      <td>0.605000</td>\n",
              "      <td>0.000000</td>\n",
              "      <td>0.745000</td>\n",
              "      <td>0.425000</td>\n",
              "      <td>0.145000</td>\n",
              "      <td>BREAST</td>\n",
              "    </tr>\n",
              "    <tr>\n",
              "      <th>...</th>\n",
              "      <td>...</td>\n",
              "      <td>...</td>\n",
              "      <td>...</td>\n",
              "      <td>...</td>\n",
              "      <td>...</td>\n",
              "      <td>...</td>\n",
              "      <td>...</td>\n",
              "      <td>...</td>\n",
              "      <td>...</td>\n",
              "      <td>...</td>\n",
              "      <td>...</td>\n",
              "      <td>...</td>\n",
              "      <td>...</td>\n",
              "      <td>...</td>\n",
              "      <td>...</td>\n",
              "      <td>...</td>\n",
              "      <td>...</td>\n",
              "      <td>...</td>\n",
              "      <td>...</td>\n",
              "      <td>...</td>\n",
              "      <td>...</td>\n",
              "    </tr>\n",
              "    <tr>\n",
              "      <th>V60</th>\n",
              "      <td>-0.030000</td>\n",
              "      <td>-0.480000</td>\n",
              "      <td>0.070000</td>\n",
              "      <td>-0.700000</td>\n",
              "      <td>-0.195000</td>\n",
              "      <td>4.100000e-01</td>\n",
              "      <td>-0.240000</td>\n",
              "      <td>0.105000</td>\n",
              "      <td>-0.410000</td>\n",
              "      <td>0.875019</td>\n",
              "      <td>...</td>\n",
              "      <td>0.150000</td>\n",
              "      <td>-0.430000</td>\n",
              "      <td>0.145000</td>\n",
              "      <td>-0.090020</td>\n",
              "      <td>-0.020000</td>\n",
              "      <td>-1.390010</td>\n",
              "      <td>-1.150000</td>\n",
              "      <td>0.290000</td>\n",
              "      <td>1.190000</td>\n",
              "      <td>MELANOMA</td>\n",
              "    </tr>\n",
              "    <tr>\n",
              "      <th>V61</th>\n",
              "      <td>-0.270000</td>\n",
              "      <td>0.630000</td>\n",
              "      <td>-0.100000</td>\n",
              "      <td>1.100000</td>\n",
              "      <td>1.045000</td>\n",
              "      <td>8.000000e-02</td>\n",
              "      <td>-0.090000</td>\n",
              "      <td>-0.675000</td>\n",
              "      <td>-0.310000</td>\n",
              "      <td>0.275019</td>\n",
              "      <td>...</td>\n",
              "      <td>0.200000</td>\n",
              "      <td>0.290000</td>\n",
              "      <td>-0.035000</td>\n",
              "      <td>0.279981</td>\n",
              "      <td>-0.160000</td>\n",
              "      <td>-0.020010</td>\n",
              "      <td>-0.640000</td>\n",
              "      <td>-0.370000</td>\n",
              "      <td>-0.430000</td>\n",
              "      <td>MELANOMA</td>\n",
              "    </tr>\n",
              "    <tr>\n",
              "      <th>V62</th>\n",
              "      <td>0.210000</td>\n",
              "      <td>-0.620000</td>\n",
              "      <td>-0.150000</td>\n",
              "      <td>-1.330000</td>\n",
              "      <td>0.045000</td>\n",
              "      <td>-4.000000e-01</td>\n",
              "      <td>-0.390000</td>\n",
              "      <td>-0.675000</td>\n",
              "      <td>-0.360000</td>\n",
              "      <td>0.945020</td>\n",
              "      <td>...</td>\n",
              "      <td>-0.120000</td>\n",
              "      <td>0.850000</td>\n",
              "      <td>-0.125000</td>\n",
              "      <td>0.779980</td>\n",
              "      <td>0.390000</td>\n",
              "      <td>0.000000</td>\n",
              "      <td>0.160000</td>\n",
              "      <td>2.030000</td>\n",
              "      <td>3.940000</td>\n",
              "      <td>MELANOMA</td>\n",
              "    </tr>\n",
              "    <tr>\n",
              "      <th>V63</th>\n",
              "      <td>-0.050000</td>\n",
              "      <td>0.140000</td>\n",
              "      <td>-0.090000</td>\n",
              "      <td>-1.260000</td>\n",
              "      <td>0.045000</td>\n",
              "      <td>-2.710505e-20</td>\n",
              "      <td>0.420000</td>\n",
              "      <td>-0.305000</td>\n",
              "      <td>0.310000</td>\n",
              "      <td>0.065019</td>\n",
              "      <td>...</td>\n",
              "      <td>-0.420000</td>\n",
              "      <td>-0.460000</td>\n",
              "      <td>-0.855000</td>\n",
              "      <td>-0.160020</td>\n",
              "      <td>-0.350000</td>\n",
              "      <td>-0.360010</td>\n",
              "      <td>-0.490000</td>\n",
              "      <td>0.010000</td>\n",
              "      <td>-1.720000</td>\n",
              "      <td>MELANOMA</td>\n",
              "    </tr>\n",
              "    <tr>\n",
              "      <th>V64</th>\n",
              "      <td>0.350000</td>\n",
              "      <td>-0.270000</td>\n",
              "      <td>0.020000</td>\n",
              "      <td>-1.230000</td>\n",
              "      <td>-0.715000</td>\n",
              "      <td>-3.400000e-01</td>\n",
              "      <td>-0.520000</td>\n",
              "      <td>0.475000</td>\n",
              "      <td>0.230000</td>\n",
              "      <td>0.915019</td>\n",
              "      <td>...</td>\n",
              "      <td>3.000000</td>\n",
              "      <td>2.860000</td>\n",
              "      <td>2.145000</td>\n",
              "      <td>0.869981</td>\n",
              "      <td>0.480000</td>\n",
              "      <td>0.969990</td>\n",
              "      <td>0.290000</td>\n",
              "      <td>-0.150000</td>\n",
              "      <td>1.210000</td>\n",
              "      <td>MELANOMA</td>\n",
              "    </tr>\n",
              "  </tbody>\n",
              "</table>\n",
              "<p>64 rows × 6831 columns</p>\n",
              "</div>"
            ],
            "text/plain": [
              "       data.1    data.2    data.3    data.4    data.5        data.6    data.7  \\\n",
              "V1   0.300000  1.180000  0.550000  1.140000 -0.265000 -7.000000e-02  0.350000   \n",
              "V2   0.679961  1.289961  0.169961  0.379961  0.464961  5.799610e-01  0.699961   \n",
              "V3   0.940000 -0.040000 -0.170000 -0.040000 -0.605000  0.000000e+00  0.090000   \n",
              "V4   0.280000 -0.310000  0.680000 -0.810000  0.625000 -1.387779e-17  0.170000   \n",
              "V5   0.485000 -0.465000  0.395000  0.905000  0.200000 -5.000000e-03  0.085000   \n",
              "..        ...       ...       ...       ...       ...           ...       ...   \n",
              "V60 -0.030000 -0.480000  0.070000 -0.700000 -0.195000  4.100000e-01 -0.240000   \n",
              "V61 -0.270000  0.630000 -0.100000  1.100000  1.045000  8.000000e-02 -0.090000   \n",
              "V62  0.210000 -0.620000 -0.150000 -1.330000  0.045000 -4.000000e-01 -0.390000   \n",
              "V63 -0.050000  0.140000 -0.090000 -1.260000  0.045000 -2.710505e-20  0.420000   \n",
              "V64  0.350000 -0.270000  0.020000 -1.230000 -0.715000 -3.400000e-01 -0.520000   \n",
              "\n",
              "       data.8    data.9   data.10  ...  data.6822  data.6823  data.6824  \\\n",
              "V1  -0.315000 -0.450000 -0.654980  ...   0.000000   0.030000  -0.175000   \n",
              "V2   0.724961 -0.040039 -0.285019  ...  -0.300039  -0.250039  -0.535039   \n",
              "V3   0.645000  0.430000  0.475019  ...   0.120000  -0.740000  -0.595000   \n",
              "V4   0.245000  0.020000  0.095019  ...  -0.110000  -0.160000   0.095000   \n",
              "V5   0.110000  0.235000  1.490019  ...  -0.775000  -0.515000  -0.320000   \n",
              "..        ...       ...       ...  ...        ...        ...        ...   \n",
              "V60  0.105000 -0.410000  0.875019  ...   0.150000  -0.430000   0.145000   \n",
              "V61 -0.675000 -0.310000  0.275019  ...   0.200000   0.290000  -0.035000   \n",
              "V62 -0.675000 -0.360000  0.945020  ...  -0.120000   0.850000  -0.125000   \n",
              "V63 -0.305000  0.310000  0.065019  ...  -0.420000  -0.460000  -0.855000   \n",
              "V64  0.475000  0.230000  0.915019  ...   3.000000   2.860000   2.145000   \n",
              "\n",
              "     data.6825  data.6826  data.6827  data.6828  data.6829  data.6830  \\\n",
              "V1    0.629981  -0.030000   0.000000   0.280000  -0.340000  -1.930000   \n",
              "V2    0.109941  -0.860039  -1.250049  -0.770039  -0.390039  -2.000039   \n",
              "V3   -0.270020  -0.150000   0.000000  -0.120000  -0.410000   0.000000   \n",
              "V4   -0.350019  -0.300000  -1.150010   1.090000  -0.260000  -1.100000   \n",
              "V5    0.634980   0.605000   0.000000   0.745000   0.425000   0.145000   \n",
              "..         ...        ...        ...        ...        ...        ...   \n",
              "V60  -0.090020  -0.020000  -1.390010  -1.150000   0.290000   1.190000   \n",
              "V61   0.279981  -0.160000  -0.020010  -0.640000  -0.370000  -0.430000   \n",
              "V62   0.779980   0.390000   0.000000   0.160000   2.030000   3.940000   \n",
              "V63  -0.160020  -0.350000  -0.360010  -0.490000   0.010000  -1.720000   \n",
              "V64   0.869981   0.480000   0.969990   0.290000  -0.150000   1.210000   \n",
              "\n",
              "         labs  \n",
              "V1        CNS  \n",
              "V2        CNS  \n",
              "V3        CNS  \n",
              "V4      RENAL  \n",
              "V5     BREAST  \n",
              "..        ...  \n",
              "V60  MELANOMA  \n",
              "V61  MELANOMA  \n",
              "V62  MELANOMA  \n",
              "V63  MELANOMA  \n",
              "V64  MELANOMA  \n",
              "\n",
              "[64 rows x 6831 columns]"
            ]
          },
          "execution_count": 1,
          "metadata": {},
          "output_type": "execute_result"
        }
      ],
      "execution_count": 1
    },
    {
      "cell_type": "markdown",
      "source": "* To see how many cultures correspond to each type of cancer.",
      "metadata": {
        "slideshow": {
          "slide_type": "slide"
        }
      }
    },
    {
      "cell_type": "code",
      "source": "labs_vc = nci_df['labs'].value_counts()\nprint(labs_vc.shape[0])\nlabs_vc",
      "metadata": {
        "slideshow": {
          "slide_type": "fragment"
        }
      },
      "outputs": [
        {
          "name": "stdout",
          "output_type": "stream",
          "text": [
            "14\n"
          ]
        },
        {
          "data": {
            "text/plain": [
              "RENAL          9\n",
              "NSCLC          9\n",
              "MELANOMA       8\n",
              "BREAST         7\n",
              "COLON          7\n",
              "OVARIAN        6\n",
              "LEUKEMIA       6\n",
              "CNS            5\n",
              "PROSTATE       2\n",
              "UNKNOWN        1\n",
              "K562B-repro    1\n",
              "K562A-repro    1\n",
              "MCF7A-repro    1\n",
              "MCF7D-repro    1\n",
              "Name: labs, dtype: int64"
            ]
          },
          "execution_count": 2,
          "metadata": {},
          "output_type": "execute_result"
        }
      ],
      "execution_count": 2
    },
    {
      "cell_type": "markdown",
      "source": "* We'll use `StandardScaler()`. ",
      "metadata": {
        "slideshow": {
          "slide_type": "slide"
        }
      }
    },
    {
      "cell_type": "code",
      "source": "from sklearn.preprocessing import StandardScaler\n\nscaler = StandardScaler()\nnci_scaled = scaler.fit_transform(nci_df.iloc[:, :-1])\nnci_scaled.shape",
      "metadata": {
        "slideshow": {
          "slide_type": "fragment"
        }
      },
      "outputs": [
        {
          "data": {
            "text/plain": [
              "(64, 6830)"
            ]
          },
          "execution_count": 3,
          "metadata": {},
          "output_type": "execute_result"
        }
      ],
      "execution_count": 3
    },
    {
      "cell_type": "markdown",
      "source": "* To get a first idea of ​​whether the clustering makes sense, we'll view them in fewer dimensions, so we can at least visually see if clusters appear.\n\n* For this purpose we will use PCA.",
      "metadata": {
        "slideshow": {
          "slide_type": "slide"
        }
      }
    },
    {
      "cell_type": "code",
      "source": "from sklearn.decomposition import PCA\n\npca = PCA()\nX = pca.fit_transform(nci_scaled)\nprint(X.shape)\npca.explained_variance_ratio_",
      "metadata": {
        "slideshow": {
          "slide_type": "fragment"
        }
      },
      "outputs": [
        {
          "name": "stdout",
          "output_type": "stream",
          "text": [
            "(64, 64)\n"
          ]
        },
        {
          "data": {
            "text/plain": [
              "array([1.13589419e-01, 6.75620253e-02, 5.75184223e-02, 4.24755448e-02,\n",
              "       3.73497235e-02, 3.61863019e-02, 3.06622240e-02, 2.68590309e-02,\n",
              "       2.52949807e-02, 2.37586884e-02, 2.35655815e-02, 2.16412198e-02,\n",
              "       2.04909747e-02, 1.97881793e-02, 1.91541737e-02, 1.77176082e-02,\n",
              "       1.66272971e-02, 1.61075898e-02, 1.59433320e-02, 1.55991861e-02,\n",
              "       1.50721674e-02, 1.48009892e-02, 1.43576234e-02, 1.36277104e-02,\n",
              "       1.32350200e-02, 1.27519917e-02, 1.25903703e-02, 1.20979413e-02,\n",
              "       1.18098781e-02, 1.12098170e-02, 1.08277440e-02, 1.04477523e-02,\n",
              "       1.02647051e-02, 9.88274535e-03, 9.74257138e-03, 9.31114503e-03,\n",
              "       9.14795316e-03, 8.95640894e-03, 8.72950586e-03, 8.42575751e-03,\n",
              "       8.13979814e-03, 7.89749805e-03, 7.39000998e-03, 7.20101586e-03,\n",
              "       7.08918353e-03, 6.90272334e-03, 6.78495251e-03, 6.47012955e-03,\n",
              "       6.40883777e-03, 6.01193511e-03, 5.66418607e-03, 5.63402788e-03,\n",
              "       5.38935217e-03, 5.12786334e-03, 5.11796180e-03, 4.81620125e-03,\n",
              "       4.38498746e-03, 4.10056057e-03, 3.69138981e-03, 3.21224918e-03,\n",
              "       2.55289125e-03, 2.43978225e-03, 2.39116326e-03, 2.24015629e-32])"
            ]
          },
          "execution_count": 4,
          "metadata": {},
          "output_type": "execute_result"
        }
      ],
      "execution_count": 4
    },
    {
      "cell_type": "markdown",
      "source": "* If we use the first three components, we can see that clusters do indeed appear to occur.",
      "metadata": {
        "slideshow": {
          "slide_type": "slide"
        }
      }
    },
    {
      "cell_type": "code",
      "source": "import matplotlib.pyplot as plt\nimport seaborn as sns\n\nplt.figure(figsize=(15, 3))\nplt.subplot(1, 3, 1)\nsns.scatterplot(x=X[:, 0], y=X[:, 1], hue=nci_df['labs'], \n                palette=sns.color_palette('gist_rainbow', n_colors=labs_vc.shape[0]))\nplt.xlabel('PC1')\nplt.ylabel('PC2')\nplt.legend('')\nplt.subplot(1, 3, 2)\nsns.scatterplot(x=X[:, 0], y=X[:, 2], hue=nci_df['labs'], \n                palette=sns.color_palette('gist_rainbow', n_colors=labs_vc.shape[0]))\nplt.xlabel('PC1')\nplt.ylabel('PC3')\nplt.legend('')\nplt.subplot(1, 3, 3)\nsns.scatterplot(x=X[:, 1], y=X[:, 2], hue=nci_df['labs'], \n                palette=sns.color_palette('gist_rainbow', n_colors=labs_vc.shape[0]))\nplt.xlabel('PC2')\nplt.ylabel('PC3')\nplt.legend('')",
      "metadata": {
        "slideshow": {
          "slide_type": "slide"
        }
      },
      "outputs": [
        {
          "data": {
            "text/plain": [
              "<matplotlib.legend.Legend at 0x142ff0100>"
            ]
          },
          "execution_count": 5,
          "metadata": {},
          "output_type": "execute_result"
        },
        {
          "data": {
            "image/png": "[encoded data removed]",
            "text/plain": [
              "<Figure size 1080x216 with 3 Axes>"
            ]
          },
          "metadata": {
            "needs_background": "light"
          },
          "output_type": "display_data"
        }
      ],
      "execution_count": 5
    },
    {
      "cell_type": "markdown",
      "source": "* Since we are in PCA, let's look at the charts with the percentages of variation.\n\n* We see an inflection around the seventh principal component, where we reach 40% of the variance cumulatively.",
      "metadata": {
        "slideshow": {
          "slide_type": "slide"
        }
      }
    },
    {
      "cell_type": "code",
      "source": "import numpy as np\n\nplt.figure(figsize=(14, 6))\nplt.subplot(1, 2, 1)\nplt.plot(pca.explained_variance_ratio_, marker='o')\nplt.xlabel('Principal Component')\nplt.ylabel('PVE')\nplt.subplot(1, 2, 2)\nplt.plot(np.cumsum(pca.explained_variance_ratio_), marker='o', color='orange')\nplt.xlabel('Principal Component')\n_ = plt.ylabel('Cumulative PVE')",
      "metadata": {
        "slideshow": {
          "slide_type": "slide"
        }
      },
      "outputs": [
        {
          "data": {
            "image/png": "[encoded data removed]",
            "text/plain": [
              "<Figure size 1008x432 with 2 Axes>"
            ]
          },
          "metadata": {
            "needs_background": "light"
          },
          "output_type": "display_data"
        }
      ],
      "execution_count": 6
    },
    {
      "cell_type": "markdown",
      "source": "* For hierarchical clustering we will use SciPy.\n\n* We need to define the metric by which we measure the difference (distance) between two clusters so that we can find the ones with the smallest distance between them.\n\n* This difference is called *linkage*.",
      "metadata": {
        "slideshow": {
          "slide_type": "slide"
        }
      }
    },
    {
      "cell_type": "markdown",
      "source": "* In *complete* connectivity, for two clusters $A$ and $B$ we store all pairwise distances between samples in $A$ and $B$ and use the *maximum* distance as the difference between $ A$ and $B$:\n\n$$\\max \\,\\{\\,d(a,b):a\\in A,\\,b\\in B\\,\\}$$",
      "metadata": {
        "slideshow": {
          "slide_type": "slide"
        }
      }
    },
    {
      "cell_type": "code",
      "source": "from scipy.cluster.hierarchy import dendrogram, linkage\n\ncluster_model_complete = linkage(nci_scaled, 'complete')",
      "metadata": {
        "slideshow": {
          "slide_type": "fragment"
        }
      },
      "outputs": [],
      "execution_count": 7
    },
    {
      "cell_type": "markdown",
      "source": "* After calculating the connectivity, we can construct a *dendrogram* that shows us the hierarchical structure of the clusters.\n\n* In the dendrogram, the length of each branch corresponds to the distance between the two clusters that are joined.",
      "metadata": {
        "slideshow": {
          "slide_type": "slide"
        }
      }
    },
    {
      "cell_type": "code",
      "source": "plt.figure(figsize=(16, 8))\n_ = dendrogram(cluster_model_complete, orientation='top', labels=nci_df['labs'], leaf_font_size=12)",
      "metadata": {
        "slideshow": {
          "slide_type": "slide"
        }
      },
      "outputs": [
        {
          "data": {
            "image/png": "[encoded data removed]",
            "text/plain": [
              "<Figure size 1152x576 with 1 Axes>"
            ]
          },
          "metadata": {
            "needs_background": "light"
          },
          "output_type": "display_data"
        }
      ],
      "execution_count": 8
    },
    {
      "cell_type": "markdown",
      "source": "* Another connection method is the *average* connection.\n\n* We calculate all distances between all pairs of samples from cluster $A$ and $B$ and use the *average* of the distances:\n\n$$ {\\frac {1}{|A|\\cdot |B|}}\\sum _{a\\in A}\\sum _{b\\in B}d(a,b)$$\n\n* To be more precise, the method is called *unweighted average linkage*, or UPGMA.",
      "metadata": {
        "slideshow": {
          "slide_type": "slide"
        }
      }
    },
    {
      "cell_type": "code",
      "source": "cluster_model_average = linkage(nci_scaled, method=\"average\")\nplt.figure(figsize=(16, 8))\n_ = dendrogram(cluster_model_average, orientation='top', labels=nci_df['labs'], leaf_font_size=12)",
      "metadata": {
        "slideshow": {
          "slide_type": "slide"
        }
      },
      "outputs": [
        {
          "data": {
            "image/png": "[encoded data removed]",
            "text/plain": [
              "<Figure size 1152x576 with 1 Axes>"
            ]
          },
          "metadata": {
            "needs_background": "light"
          },
          "output_type": "display_data"
        }
      ],
      "execution_count": 9
    },
    {
      "cell_type": "markdown",
      "source": "* Another connection method is the *single* interface.\n\n* We calculate all distances between all pairs of samples from cluster $A$ and $B$ and use the smallest distance:\n\n$$\\min \\,\\{\\,d(a,b):a\\in A,\\,b\\in B\\,\\}$$",
      "metadata": {
        "slideshow": {
          "slide_type": "slide"
        }
      }
    },
    {
      "cell_type": "code",
      "source": "cluster_model_average = linkage(nci_scaled, method=\"single\")\nplt.figure(figsize=(16, 8))\n_ = dendrogram(cluster_model_average, orientation='top', labels=nci_df['labs'], leaf_font_size=12)",
      "metadata": {
        "slideshow": {
          "slide_type": "slide"
        }
      },
      "outputs": [
        {
          "data": {
            "image/png": "[encoded data removed]",
            "text/plain": [
              "<Figure size 1152x576 with 1 Axes>"
            ]
          },
          "metadata": {
            "needs_background": "light"
          },
          "output_type": "display_data"
        }
      ],
      "execution_count": 10
    },
    {
      "cell_type": "markdown",
      "source": "* Suppose we will use full connection and keep four clusters.\n\n* We can find the cluster of each observation using the `fcluster()` function.",
      "metadata": {
        "slideshow": {
          "slide_type": "slide"
        }
      }
    },
    {
      "cell_type": "code",
      "source": "from scipy.cluster.hierarchy import fcluster\n\nhc_labels = fcluster(cluster_model_complete, 4, criterion='maxclust')\nhc_labels",
      "metadata": {
        "slideshow": {
          "slide_type": "fragment"
        }
      },
      "outputs": [
        {
          "data": {
            "text/plain": [
              "array([2, 2, 2, 2, 1, 1, 1, 1, 2, 2, 2, 2, 2, 2, 2, 2, 2, 1, 1, 1, 2, 2,\n",
              "       2, 2, 2, 2, 2, 2, 2, 2, 2, 2, 2, 4, 4, 4, 4, 4, 4, 4, 4, 2, 3, 2,\n",
              "       3, 3, 3, 3, 3, 3, 3, 3, 2, 2, 2, 2, 2, 2, 2, 2, 2, 2, 2, 2],\n",
              "      dtype=int32)"
            ]
          },
          "execution_count": 11,
          "metadata": {},
          "output_type": "execute_result"
        }
      ],
      "execution_count": 11
    },
    {
      "cell_type": "markdown",
      "source": "* We will put the cluster of each observation, along with the cancer type, into a `DataFrame`.",
      "metadata": {
        "slideshow": {
          "slide_type": "slide"
        }
      }
    },
    {
      "cell_type": "code",
      "source": "import pandas as pd\n\nlabs_cluster_df = pd.DataFrame({'labs': nci_df['labs'], 'cluster': hc_labels})\nlabs_cluster_df",
      "metadata": {
        "slideshow": {
          "slide_type": "fragment"
        }
      },
      "outputs": [
        {
          "data": {
            "text/html": [
              "<div>\n",
              "<style scoped>\n",
              "    .dataframe tbody tr th:only-of-type {\n",
              "        vertical-align: middle;\n",
              "    }\n",
              "\n",
              "    .dataframe tbody tr th {\n",
              "        vertical-align: top;\n",
              "    }\n",
              "\n",
              "    .dataframe thead th {\n",
              "        text-align: right;\n",
              "    }\n",
              "</style>\n",
              "<table border=\"1\" class=\"dataframe\">\n",
              "  <thead>\n",
              "    <tr style=\"text-align: right;\">\n",
              "      <th></th>\n",
              "      <th>labs</th>\n",
              "      <th>cluster</th>\n",
              "    </tr>\n",
              "  </thead>\n",
              "  <tbody>\n",
              "    <tr>\n",
              "      <th>V1</th>\n",
              "      <td>CNS</td>\n",
              "      <td>2</td>\n",
              "    </tr>\n",
              "    <tr>\n",
              "      <th>V2</th>\n",
              "      <td>CNS</td>\n",
              "      <td>2</td>\n",
              "    </tr>\n",
              "    <tr>\n",
              "      <th>V3</th>\n",
              "      <td>CNS</td>\n",
              "      <td>2</td>\n",
              "    </tr>\n",
              "    <tr>\n",
              "      <th>V4</th>\n",
              "      <td>RENAL</td>\n",
              "      <td>2</td>\n",
              "    </tr>\n",
              "    <tr>\n",
              "      <th>V5</th>\n",
              "      <td>BREAST</td>\n",
              "      <td>1</td>\n",
              "    </tr>\n",
              "    <tr>\n",
              "      <th>...</th>\n",
              "      <td>...</td>\n",
              "      <td>...</td>\n",
              "    </tr>\n",
              "    <tr>\n",
              "      <th>V60</th>\n",
              "      <td>MELANOMA</td>\n",
              "      <td>2</td>\n",
              "    </tr>\n",
              "    <tr>\n",
              "      <th>V61</th>\n",
              "      <td>MELANOMA</td>\n",
              "      <td>2</td>\n",
              "    </tr>\n",
              "    <tr>\n",
              "      <th>V62</th>\n",
              "      <td>MELANOMA</td>\n",
              "      <td>2</td>\n",
              "    </tr>\n",
              "    <tr>\n",
              "      <th>V63</th>\n",
              "      <td>MELANOMA</td>\n",
              "      <td>2</td>\n",
              "    </tr>\n",
              "    <tr>\n",
              "      <th>V64</th>\n",
              "      <td>MELANOMA</td>\n",
              "      <td>2</td>\n",
              "    </tr>\n",
              "  </tbody>\n",
              "</table>\n",
              "<p>64 rows × 2 columns</p>\n",
              "</div>"
            ],
            "text/plain": [
              "         labs  cluster\n",
              "V1        CNS        2\n",
              "V2        CNS        2\n",
              "V3        CNS        2\n",
              "V4      RENAL        2\n",
              "V5     BREAST        1\n",
              "..        ...      ...\n",
              "V60  MELANOMA        2\n",
              "V61  MELANOMA        2\n",
              "V62  MELANOMA        2\n",
              "V63  MELANOMA        2\n",
              "V64  MELANOMA        2\n",
              "\n",
              "[64 rows x 2 columns]"
            ]
          },
          "execution_count": 12,
          "metadata": {},
          "output_type": "execute_result"
        }
      ],
      "execution_count": 12
    },
    {
      "cell_type": "markdown",
      "source": "* Then, using `pivot_table()` we can see which types of cancer are included in each cluster.\n\n* For example, all cases of leukemia are in cluster 4.\n\n* Breast cancer cases are included in clusters 1, 2, 3.",
      "metadata": {
        "slideshow": {
          "slide_type": "slide"
        }
      }
    },
    {
      "cell_type": "code",
      "source": "labs_cluster_df.pivot_table(index='cluster', columns='labs', aggfunc='size').fillna(0)",
      "metadata": {
        "slideshow": {
          "slide_type": "fragment"
        }
      },
      "outputs": [
        {
          "data": {
            "text/html": [
              "<div>\n",
              "<style scoped>\n",
              "    .dataframe tbody tr th:only-of-type {\n",
              "        vertical-align: middle;\n",
              "    }\n",
              "\n",
              "    .dataframe tbody tr th {\n",
              "        vertical-align: top;\n",
              "    }\n",
              "\n",
              "    .dataframe thead th {\n",
              "        text-align: right;\n",
              "    }\n",
              "</style>\n",
              "<table border=\"1\" class=\"dataframe\">\n",
              "  <thead>\n",
              "    <tr style=\"text-align: right;\">\n",
              "      <th>labs</th>\n",
              "      <th>BREAST</th>\n",
              "      <th>CNS</th>\n",
              "      <th>COLON</th>\n",
              "      <th>K562A-repro</th>\n",
              "      <th>K562B-repro</th>\n",
              "      <th>LEUKEMIA</th>\n",
              "      <th>MCF7A-repro</th>\n",
              "      <th>MCF7D-repro</th>\n",
              "      <th>MELANOMA</th>\n",
              "      <th>NSCLC</th>\n",
              "      <th>OVARIAN</th>\n",
              "      <th>PROSTATE</th>\n",
              "      <th>RENAL</th>\n",
              "      <th>UNKNOWN</th>\n",
              "    </tr>\n",
              "    <tr>\n",
              "      <th>cluster</th>\n",
              "      <th></th>\n",
              "      <th></th>\n",
              "      <th></th>\n",
              "      <th></th>\n",
              "      <th></th>\n",
              "      <th></th>\n",
              "      <th></th>\n",
              "      <th></th>\n",
              "      <th></th>\n",
              "      <th></th>\n",
              "      <th></th>\n",
              "      <th></th>\n",
              "      <th></th>\n",
              "      <th></th>\n",
              "    </tr>\n",
              "  </thead>\n",
              "  <tbody>\n",
              "    <tr>\n",
              "      <th>1</th>\n",
              "      <td>3.0</td>\n",
              "      <td>2.0</td>\n",
              "      <td>0.0</td>\n",
              "      <td>0.0</td>\n",
              "      <td>0.0</td>\n",
              "      <td>0.0</td>\n",
              "      <td>0.0</td>\n",
              "      <td>0.0</td>\n",
              "      <td>0.0</td>\n",
              "      <td>1.0</td>\n",
              "      <td>0.0</td>\n",
              "      <td>0.0</td>\n",
              "      <td>1.0</td>\n",
              "      <td>0.0</td>\n",
              "    </tr>\n",
              "    <tr>\n",
              "      <th>2</th>\n",
              "      <td>2.0</td>\n",
              "      <td>3.0</td>\n",
              "      <td>2.0</td>\n",
              "      <td>0.0</td>\n",
              "      <td>0.0</td>\n",
              "      <td>0.0</td>\n",
              "      <td>0.0</td>\n",
              "      <td>0.0</td>\n",
              "      <td>8.0</td>\n",
              "      <td>8.0</td>\n",
              "      <td>6.0</td>\n",
              "      <td>2.0</td>\n",
              "      <td>8.0</td>\n",
              "      <td>1.0</td>\n",
              "    </tr>\n",
              "    <tr>\n",
              "      <th>3</th>\n",
              "      <td>2.0</td>\n",
              "      <td>0.0</td>\n",
              "      <td>5.0</td>\n",
              "      <td>0.0</td>\n",
              "      <td>0.0</td>\n",
              "      <td>0.0</td>\n",
              "      <td>1.0</td>\n",
              "      <td>1.0</td>\n",
              "      <td>0.0</td>\n",
              "      <td>0.0</td>\n",
              "      <td>0.0</td>\n",
              "      <td>0.0</td>\n",
              "      <td>0.0</td>\n",
              "      <td>0.0</td>\n",
              "    </tr>\n",
              "    <tr>\n",
              "      <th>4</th>\n",
              "      <td>0.0</td>\n",
              "      <td>0.0</td>\n",
              "      <td>0.0</td>\n",
              "      <td>1.0</td>\n",
              "      <td>1.0</td>\n",
              "      <td>6.0</td>\n",
              "      <td>0.0</td>\n",
              "      <td>0.0</td>\n",
              "      <td>0.0</td>\n",
              "      <td>0.0</td>\n",
              "      <td>0.0</td>\n",
              "      <td>0.0</td>\n",
              "      <td>0.0</td>\n",
              "      <td>0.0</td>\n",
              "    </tr>\n",
              "  </tbody>\n",
              "</table>\n",
              "</div>"
            ],
            "text/plain": [
              "labs     BREAST  CNS  COLON  K562A-repro  K562B-repro  LEUKEMIA  MCF7A-repro  \\\n",
              "cluster                                                                        \n",
              "1           3.0  2.0    0.0          0.0          0.0       0.0          0.0   \n",
              "2           2.0  3.0    2.0          0.0          0.0       0.0          0.0   \n",
              "3           2.0  0.0    5.0          0.0          0.0       0.0          1.0   \n",
              "4           0.0  0.0    0.0          1.0          1.0       6.0          0.0   \n",
              "\n",
              "labs     MCF7D-repro  MELANOMA  NSCLC  OVARIAN  PROSTATE  RENAL  UNKNOWN  \n",
              "cluster                                                                   \n",
              "1                0.0       0.0    1.0      0.0       0.0    1.0      0.0  \n",
              "2                0.0       8.0    8.0      6.0       2.0    8.0      1.0  \n",
              "3                1.0       0.0    0.0      0.0       0.0    0.0      0.0  \n",
              "4                0.0       0.0    0.0      0.0       0.0    0.0      0.0  "
            ]
          },
          "execution_count": 13,
          "metadata": {},
          "output_type": "execute_result"
        }
      ],
      "execution_count": 13
    },
    {
      "cell_type": "markdown",
      "source": "* If we want a graphical representation of the clusters, we can draw a horizontal line where the four clusters form.",
      "metadata": {
        "slideshow": {
          "slide_type": "slide"
        }
      }
    },
    {
      "cell_type": "code",
      "source": "plt.figure(figsize=(16, 8))\n_ = dendrogram(cluster_model_complete, orientation='top', labels=nci_df['labs'], leaf_font_size=12)\nplt.axhline(y=141, color='r', linestyle='dashed')",
      "metadata": {
        "slideshow": {
          "slide_type": "fragment"
        }
      },
      "outputs": [
        {
          "data": {
            "text/plain": [
              "<matplotlib.lines.Line2D at 0x143501f10>"
            ]
          },
          "execution_count": 14,
          "metadata": {},
          "output_type": "execute_result"
        },
        {
          "data": {
            "image/png": "[encoded data removed]",
            "text/plain": [
              "<Figure size 1152x576 with 1 Axes>"
            ]
          },
          "metadata": {
            "needs_background": "light"
          },
          "output_type": "display_data"
        }
      ],
      "execution_count": 14
    },
    {
      "cell_type": "markdown",
      "source": "* It is interesting to compare the results with what we would get if we used k-means.",
      "metadata": {
        "slideshow": {
          "slide_type": "slide"
        }
      }
    },
    {
      "cell_type": "code",
      "source": "from sklearn.cluster import KMeans\n\nkmeans = KMeans(n_clusters=4, random_state=0, n_init=20)\nkm_labels = kmeans.fit_predict(nci_scaled)\nkm_labels",
      "metadata": {
        "slideshow": {
          "slide_type": "fragment"
        }
      },
      "outputs": [
        {
          "data": {
            "text/plain": [
              "array([0, 0, 0, 0, 0, 0, 0, 0, 0, 0, 0, 0, 0, 0, 0, 0, 0, 0, 0, 0, 0, 0,\n",
              "       0, 0, 0, 0, 0, 0, 0, 0, 0, 0, 0, 3, 3, 3, 3, 3, 3, 3, 3, 1, 1, 1,\n",
              "       1, 1, 1, 1, 1, 1, 1, 1, 1, 0, 0, 2, 2, 2, 2, 2, 2, 2, 2, 2],\n",
              "      dtype=int32)"
            ]
          },
          "execution_count": 15,
          "metadata": {},
          "output_type": "execute_result"
        }
      ],
      "execution_count": 15
    },
    {
      "cell_type": "markdown",
      "source": "* Since cluster names here start at 0, we add 1 to them so they have the same namespace as hierarchical clustering.\n\n* This does not mean that synonymous clusters are the same!",
      "metadata": {
        "slideshow": {
          "slide_type": "slide"
        }
      }
    },
    {
      "cell_type": "code",
      "source": "km_labels += 1\nkm_labels",
      "metadata": {
        "slideshow": {
          "slide_type": "fragment"
        }
      },
      "outputs": [
        {
          "data": {
            "text/plain": [
              "array([1, 1, 1, 1, 1, 1, 1, 1, 1, 1, 1, 1, 1, 1, 1, 1, 1, 1, 1, 1, 1, 1,\n",
              "       1, 1, 1, 1, 1, 1, 1, 1, 1, 1, 1, 4, 4, 4, 4, 4, 4, 4, 4, 2, 2, 2,\n",
              "       2, 2, 2, 2, 2, 2, 2, 2, 2, 1, 1, 3, 3, 3, 3, 3, 3, 3, 3, 3],\n",
              "      dtype=int32)"
            ]
          },
          "execution_count": 16,
          "metadata": {},
          "output_type": "execute_result"
        }
      ],
      "execution_count": 16
    },
    {
      "cell_type": "markdown",
      "source": "* To find exactly the correspondence of the clusters, we can make a *cross tabulation table*.",
      "metadata": {
        "slideshow": {
          "slide_type": "slide"
        }
      }
    },
    {
      "cell_type": "code",
      "source": "pd.crosstab(hc_labels, km_labels, rownames=['hc'], colnames=['kmeans'])",
      "metadata": {
        "slideshow": {
          "slide_type": "fragment"
        }
      },
      "outputs": [
        {
          "data": {
            "text/html": [
              "<div>\n",
              "<style scoped>\n",
              "    .dataframe tbody tr th:only-of-type {\n",
              "        vertical-align: middle;\n",
              "    }\n",
              "\n",
              "    .dataframe tbody tr th {\n",
              "        vertical-align: top;\n",
              "    }\n",
              "\n",
              "    .dataframe thead th {\n",
              "        text-align: right;\n",
              "    }\n",
              "</style>\n",
              "<table border=\"1\" class=\"dataframe\">\n",
              "  <thead>\n",
              "    <tr style=\"text-align: right;\">\n",
              "      <th>kmeans</th>\n",
              "      <th>1</th>\n",
              "      <th>2</th>\n",
              "      <th>3</th>\n",
              "      <th>4</th>\n",
              "    </tr>\n",
              "    <tr>\n",
              "      <th>hc</th>\n",
              "      <th></th>\n",
              "      <th></th>\n",
              "      <th></th>\n",
              "      <th></th>\n",
              "    </tr>\n",
              "  </thead>\n",
              "  <tbody>\n",
              "    <tr>\n",
              "      <th>1</th>\n",
              "      <td>7</td>\n",
              "      <td>0</td>\n",
              "      <td>0</td>\n",
              "      <td>0</td>\n",
              "    </tr>\n",
              "    <tr>\n",
              "      <th>2</th>\n",
              "      <td>28</td>\n",
              "      <td>3</td>\n",
              "      <td>9</td>\n",
              "      <td>0</td>\n",
              "    </tr>\n",
              "    <tr>\n",
              "      <th>3</th>\n",
              "      <td>0</td>\n",
              "      <td>9</td>\n",
              "      <td>0</td>\n",
              "      <td>0</td>\n",
              "    </tr>\n",
              "    <tr>\n",
              "      <th>4</th>\n",
              "      <td>0</td>\n",
              "      <td>0</td>\n",
              "      <td>0</td>\n",
              "      <td>8</td>\n",
              "    </tr>\n",
              "  </tbody>\n",
              "</table>\n",
              "</div>"
            ],
            "text/plain": [
              "kmeans   1  2  3  4\n",
              "hc                 \n",
              "1        7  0  0  0\n",
              "2       28  3  9  0\n",
              "3        0  9  0  0\n",
              "4        0  0  0  8"
            ]
          },
          "execution_count": 17,
          "metadata": {},
          "output_type": "execute_result"
        }
      ],
      "execution_count": 17
    },
    {
      "cell_type": "markdown",
      "source": "* All cluster 1 members from hierarchical clustering belong to k-means cluster 1.\n\n* All members of cluster 3 from hierarchical clustering belong to cluster 2 of k-means.\n\n* All cluster 4 members from hierarchical clustering belong to k-means cluster 4.",
      "metadata": {
        "slideshow": {
          "slide_type": "fragment"
        }
      }
    }
  ]
}